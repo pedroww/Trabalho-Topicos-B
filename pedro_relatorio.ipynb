{
  "nbformat": 4,
  "nbformat_minor": 0,
  "metadata": {
    "colab": {
      "name": "pedro-relatorio.ipynb",
      "provenance": [],
      "collapsed_sections": [],
      "toc_visible": true,
      "authorship_tag": "ABX9TyPYdzD7JEKinsKwrv97Ow5y"
    },
    "kernelspec": {
      "name": "python3",
      "display_name": "Python 3"
    }
  },
  "cells": [
    {
      "cell_type": "code",
      "metadata": {
        "id": "QpfroIjB2sdS"
      },
      "source": [
        "import pandas as pd\r\n",
        "import numpy as np\r\n",
        "import matplotlib.pyplot as plt\r\n",
        "import seaborn as sns\r\n",
        "from sklearn.preprocessing import StandardScaler\r\n",
        "from sklearn.model_selection import RepeatedKFold\r\n",
        "from sklearn.model_selection import cross_val_score\r\n",
        "from sklearn.linear_model import LogisticRegression\r\n",
        "from sklearn.neighbors import KNeighborsClassifier\r\n",
        "from sklearn.tree import DecisionTreeClassifier\r\n",
        "from sklearn.ensemble import RandomForestClassifier\r\n",
        "from sklearn.ensemble import VotingClassifier\r\n",
        "from sklearn.ensemble import BaggingClassifier\r\n",
        "from sklearn.model_selection import train_test_split\r\n",
        "from sklearn.model_selection import GridSearchCV\r\n",
        "from sklearn.impute import KNNImputer"
      ],
      "execution_count": 530,
      "outputs": []
    },
    {
      "cell_type": "code",
      "metadata": {
        "colab": {
          "base_uri": "https://localhost:8080/"
        },
        "id": "MOrmVm8u23AK",
        "outputId": "557d60c4-71f8-446d-d06f-be9c7f09c223"
      },
      "source": [
        "treino = pd.read_csv('https://raw.githubusercontent.com/ricardorocha86/Topicos-B/main/topicosB-treino.csv')\r\n",
        "teste = pd.read_csv('https://raw.githubusercontent.com/ricardorocha86/Topicos-B/main/topicosB-teste.csv')\r\n",
        "pd.set_option('display.max_columns', None)\r\n",
        "print(treino.head())\r\n",
        "print(teste.head())"
      ],
      "execution_count": 531,
      "outputs": [
        {
          "output_type": "stream",
          "text": [
            "                                   name     sex      age  sibsp  parch  \\\n",
            "0         Allen, Miss. Elisabeth Walton  female  29.0000      0      0   \n",
            "1        Allison, Master. Hudson Trevor    male   0.9167      1      2   \n",
            "2  Allison, Mr. Hudson Joshua Creighton    male  30.0000      1      2   \n",
            "3                   Anderson, Mr. Harry    male  48.0000      0      0   \n",
            "4     Andrews, Miss. Kornelia Theodosia  female  63.0000      1      0   \n",
            "\n",
            "   ticket      fare embarked  pclass  survived  \n",
            "0   24160  211.3375        S       1         1  \n",
            "1  113781  151.5500        S       1         1  \n",
            "2  113781  151.5500        S       1         0  \n",
            "3   19952   26.5500        S       1         1  \n",
            "4   13502   77.9583        S       1         1  \n",
            "                                              name     sex   age  sibsp  \\\n",
            "0                     Allison, Miss. Helen Loraine  female   2.0      1   \n",
            "1  Allison, Mrs. Hudson J C (Bessie Waldo Daniels)  female  25.0      1   \n",
            "2                           Andrews, Mr. Thomas Jr    male  39.0      0   \n",
            "3                          Artagaveytia, Mr. Ramon    male  71.0      0   \n",
            "4             Barkworth, Mr. Algernon Henry Wilson    male  80.0      0   \n",
            "\n",
            "   parch    ticket      fare embarked  pclass  \n",
            "0      2    113781  151.5500        S       1  \n",
            "1      2    113781  151.5500        S       1  \n",
            "2      0    112050    0.0000        S       1  \n",
            "3      0  PC 17609   49.5042        C       1  \n",
            "4      0     27042   30.0000        S       1  \n"
          ],
          "name": "stdout"
        }
      ]
    },
    {
      "cell_type": "markdown",
      "metadata": {
        "id": "stKt1OriNznN"
      },
      "source": [
        "**Tratamento dos dados faltantes:** aqui já é possível perceber que o conjunto de dados de treinamento possui variáveis com dados faltantes. São elas: 'age', 'fare', e 'embarked'. Já o conjunto de teste não possui valores faltantes"
      ]
    },
    {
      "cell_type": "code",
      "metadata": {
        "colab": {
          "base_uri": "https://localhost:8080/"
        },
        "id": "Z8PWWyOWNtbl",
        "outputId": "9f2bb4ac-514f-4c26-95b3-413a4c0cc9b5"
      },
      "source": [
        "print(treino.shape)\r\n",
        "print(treino.info())\r\n",
        "print('*******************************************')\r\n",
        "print(teste.shape)\r\n",
        "print(teste.info())"
      ],
      "execution_count": 532,
      "outputs": [
        {
          "output_type": "stream",
          "text": [
            "(1000, 10)\n",
            "<class 'pandas.core.frame.DataFrame'>\n",
            "RangeIndex: 1000 entries, 0 to 999\n",
            "Data columns (total 10 columns):\n",
            " #   Column    Non-Null Count  Dtype  \n",
            "---  ------    --------------  -----  \n",
            " 0   name      1000 non-null   object \n",
            " 1   sex       1000 non-null   object \n",
            " 2   age       790 non-null    float64\n",
            " 3   sibsp     1000 non-null   int64  \n",
            " 4   parch     1000 non-null   int64  \n",
            " 5   ticket    1000 non-null   object \n",
            " 6   fare      999 non-null    float64\n",
            " 7   embarked  998 non-null    object \n",
            " 8   pclass    1000 non-null   int64  \n",
            " 9   survived  1000 non-null   int64  \n",
            "dtypes: float64(2), int64(4), object(4)\n",
            "memory usage: 78.2+ KB\n",
            "None\n",
            "*******************************************\n",
            "(309, 9)\n",
            "<class 'pandas.core.frame.DataFrame'>\n",
            "RangeIndex: 309 entries, 0 to 308\n",
            "Data columns (total 9 columns):\n",
            " #   Column    Non-Null Count  Dtype  \n",
            "---  ------    --------------  -----  \n",
            " 0   name      309 non-null    object \n",
            " 1   sex       309 non-null    object \n",
            " 2   age       309 non-null    float64\n",
            " 3   sibsp     309 non-null    int64  \n",
            " 4   parch     309 non-null    int64  \n",
            " 5   ticket    309 non-null    object \n",
            " 6   fare      309 non-null    float64\n",
            " 7   embarked  309 non-null    object \n",
            " 8   pclass    309 non-null    int64  \n",
            "dtypes: float64(2), int64(3), object(4)\n",
            "memory usage: 21.9+ KB\n",
            "None\n"
          ],
          "name": "stdout"
        }
      ]
    },
    {
      "cell_type": "markdown",
      "metadata": {
        "id": "Hkhdydo_PSWA"
      },
      "source": [
        "A variável 'age' possui 210 valores nulos, 'embarked' possui 2 e 'fare' possui apenas 1."
      ]
    },
    {
      "cell_type": "code",
      "metadata": {
        "colab": {
          "base_uri": "https://localhost:8080/"
        },
        "id": "_PfrlhYQ4NU_",
        "outputId": "218b8a96-d51d-4c20-eca3-e00e50d80869"
      },
      "source": [
        "print(treino.isnull().sum())"
      ],
      "execution_count": 533,
      "outputs": [
        {
          "output_type": "stream",
          "text": [
            "name          0\n",
            "sex           0\n",
            "age         210\n",
            "sibsp         0\n",
            "parch         0\n",
            "ticket        0\n",
            "fare          1\n",
            "embarked      2\n",
            "pclass        0\n",
            "survived      0\n",
            "dtype: int64\n"
          ],
          "name": "stdout"
        }
      ]
    },
    {
      "cell_type": "markdown",
      "metadata": {
        "id": "uVRGz7FkPpZy"
      },
      "source": [
        "Para resolver o problema, iremos substituir os valores faltantes de 'age' e 'fare' pela mediana, e os valores faltantes da variável embarked vamos substituir pela moda (S)."
      ]
    },
    {
      "cell_type": "code",
      "metadata": {
        "colab": {
          "base_uri": "https://localhost:8080/"
        },
        "id": "MUEcjPjnPpCA",
        "outputId": "bc6d95e9-4355-4cca-cde3-6edcc9a106e0"
      },
      "source": [
        "#imp = KNNImputer(n_neighbors=5)\r\n",
        "#treino[['age', 'fare']] = imp.fit_transform(treino[['age', 'fare']])\r\n",
        "treino['age'] = treino['age'].fillna(treino['age'].median())\r\n",
        "treino['fare'] = treino['fare'].fillna(treino['fare'].median())\r\n",
        "treino['embarked'] = treino['embarked'].fillna(treino['embarked'].mode()[0])\r\n",
        "print(treino.isnull().any())\r\n",
        "print(treino.head())"
      ],
      "execution_count": 534,
      "outputs": [
        {
          "output_type": "stream",
          "text": [
            "name        False\n",
            "sex         False\n",
            "age         False\n",
            "sibsp       False\n",
            "parch       False\n",
            "ticket      False\n",
            "fare        False\n",
            "embarked    False\n",
            "pclass      False\n",
            "survived    False\n",
            "dtype: bool\n",
            "                                   name     sex      age  sibsp  parch  \\\n",
            "0         Allen, Miss. Elisabeth Walton  female  29.0000      0      0   \n",
            "1        Allison, Master. Hudson Trevor    male   0.9167      1      2   \n",
            "2  Allison, Mr. Hudson Joshua Creighton    male  30.0000      1      2   \n",
            "3                   Anderson, Mr. Harry    male  48.0000      0      0   \n",
            "4     Andrews, Miss. Kornelia Theodosia  female  63.0000      1      0   \n",
            "\n",
            "   ticket      fare embarked  pclass  survived  \n",
            "0   24160  211.3375        S       1         1  \n",
            "1  113781  151.5500        S       1         1  \n",
            "2  113781  151.5500        S       1         0  \n",
            "3   19952   26.5500        S       1         1  \n",
            "4   13502   77.9583        S       1         1  \n"
          ],
          "name": "stdout"
        }
      ]
    },
    {
      "cell_type": "markdown",
      "metadata": {
        "id": "kBKVab40QCkl"
      },
      "source": [
        "**Transformando a variável 'sex' numa varíavel numérica e descartando 'ticket', pois não será útil**"
      ]
    },
    {
      "cell_type": "code",
      "metadata": {
        "id": "fthTUuUgPxWq"
      },
      "source": [
        "treino['sex'] = treino['sex'].map({'male':1, 'female':0})\r\n",
        "teste['sex'] = teste['sex'].map({'male':1, 'female':0})\r\n",
        "treino = treino.drop('ticket', axis=1)\r\n",
        "teste = teste.drop('ticket', axis=1)"
      ],
      "execution_count": 535,
      "outputs": []
    },
    {
      "cell_type": "markdown",
      "metadata": {
        "id": "KTc7uq9582y0"
      },
      "source": [
        "## EDA e Feature Engineering"
      ]
    },
    {
      "cell_type": "markdown",
      "metadata": {
        "id": "mOGVih4FQrVE"
      },
      "source": [
        "**Descrição dos nossos dados com algumas medidas**"
      ]
    },
    {
      "cell_type": "code",
      "metadata": {
        "colab": {
          "base_uri": "https://localhost:8080/",
          "height": 284
        },
        "id": "yATt8-HKbNec",
        "outputId": "e258f254-4e5f-42c8-9522-2f9308d22176"
      },
      "source": [
        "treino.describe()"
      ],
      "execution_count": 536,
      "outputs": [
        {
          "output_type": "execute_result",
          "data": {
            "text/html": [
              "<div>\n",
              "<style scoped>\n",
              "    .dataframe tbody tr th:only-of-type {\n",
              "        vertical-align: middle;\n",
              "    }\n",
              "\n",
              "    .dataframe tbody tr th {\n",
              "        vertical-align: top;\n",
              "    }\n",
              "\n",
              "    .dataframe thead th {\n",
              "        text-align: right;\n",
              "    }\n",
              "</style>\n",
              "<table border=\"1\" class=\"dataframe\">\n",
              "  <thead>\n",
              "    <tr style=\"text-align: right;\">\n",
              "      <th></th>\n",
              "      <th>sex</th>\n",
              "      <th>age</th>\n",
              "      <th>sibsp</th>\n",
              "      <th>parch</th>\n",
              "      <th>fare</th>\n",
              "      <th>pclass</th>\n",
              "      <th>survived</th>\n",
              "    </tr>\n",
              "  </thead>\n",
              "  <tbody>\n",
              "    <tr>\n",
              "      <th>count</th>\n",
              "      <td>1000.000000</td>\n",
              "      <td>1000.000000</td>\n",
              "      <td>1000.000000</td>\n",
              "      <td>1000.000000</td>\n",
              "      <td>1000.000000</td>\n",
              "      <td>1000.00000</td>\n",
              "      <td>1000.000000</td>\n",
              "    </tr>\n",
              "    <tr>\n",
              "      <th>mean</th>\n",
              "      <td>0.646000</td>\n",
              "      <td>29.327500</td>\n",
              "      <td>0.484000</td>\n",
              "      <td>0.384000</td>\n",
              "      <td>33.768975</td>\n",
              "      <td>2.28600</td>\n",
              "      <td>0.392000</td>\n",
              "    </tr>\n",
              "    <tr>\n",
              "      <th>std</th>\n",
              "      <td>0.478448</td>\n",
              "      <td>12.536085</td>\n",
              "      <td>1.015271</td>\n",
              "      <td>0.881658</td>\n",
              "      <td>53.961990</td>\n",
              "      <td>0.84197</td>\n",
              "      <td>0.488441</td>\n",
              "    </tr>\n",
              "    <tr>\n",
              "      <th>min</th>\n",
              "      <td>0.000000</td>\n",
              "      <td>0.333300</td>\n",
              "      <td>0.000000</td>\n",
              "      <td>0.000000</td>\n",
              "      <td>0.000000</td>\n",
              "      <td>1.00000</td>\n",
              "      <td>0.000000</td>\n",
              "    </tr>\n",
              "    <tr>\n",
              "      <th>25%</th>\n",
              "      <td>0.000000</td>\n",
              "      <td>22.000000</td>\n",
              "      <td>0.000000</td>\n",
              "      <td>0.000000</td>\n",
              "      <td>7.895800</td>\n",
              "      <td>1.00000</td>\n",
              "      <td>0.000000</td>\n",
              "    </tr>\n",
              "    <tr>\n",
              "      <th>50%</th>\n",
              "      <td>1.000000</td>\n",
              "      <td>28.000000</td>\n",
              "      <td>0.000000</td>\n",
              "      <td>0.000000</td>\n",
              "      <td>14.454200</td>\n",
              "      <td>3.00000</td>\n",
              "      <td>0.000000</td>\n",
              "    </tr>\n",
              "    <tr>\n",
              "      <th>75%</th>\n",
              "      <td>1.000000</td>\n",
              "      <td>35.000000</td>\n",
              "      <td>1.000000</td>\n",
              "      <td>0.000000</td>\n",
              "      <td>31.275000</td>\n",
              "      <td>3.00000</td>\n",
              "      <td>1.000000</td>\n",
              "    </tr>\n",
              "    <tr>\n",
              "      <th>max</th>\n",
              "      <td>1.000000</td>\n",
              "      <td>70.500000</td>\n",
              "      <td>8.000000</td>\n",
              "      <td>9.000000</td>\n",
              "      <td>512.329200</td>\n",
              "      <td>3.00000</td>\n",
              "      <td>1.000000</td>\n",
              "    </tr>\n",
              "  </tbody>\n",
              "</table>\n",
              "</div>"
            ],
            "text/plain": [
              "               sex          age        sibsp        parch         fare  \\\n",
              "count  1000.000000  1000.000000  1000.000000  1000.000000  1000.000000   \n",
              "mean      0.646000    29.327500     0.484000     0.384000    33.768975   \n",
              "std       0.478448    12.536085     1.015271     0.881658    53.961990   \n",
              "min       0.000000     0.333300     0.000000     0.000000     0.000000   \n",
              "25%       0.000000    22.000000     0.000000     0.000000     7.895800   \n",
              "50%       1.000000    28.000000     0.000000     0.000000    14.454200   \n",
              "75%       1.000000    35.000000     1.000000     0.000000    31.275000   \n",
              "max       1.000000    70.500000     8.000000     9.000000   512.329200   \n",
              "\n",
              "           pclass     survived  \n",
              "count  1000.00000  1000.000000  \n",
              "mean      2.28600     0.392000  \n",
              "std       0.84197     0.488441  \n",
              "min       1.00000     0.000000  \n",
              "25%       1.00000     0.000000  \n",
              "50%       3.00000     0.000000  \n",
              "75%       3.00000     1.000000  \n",
              "max       3.00000     1.000000  "
            ]
          },
          "metadata": {
            "tags": []
          },
          "execution_count": 536
        }
      ]
    },
    {
      "cell_type": "markdown",
      "metadata": {
        "id": "Mzdamjf4Cw-P"
      },
      "source": [
        "No histograma abaixo está a distribuição de idade dos tripulantes. Também vemos abaixo que a idade média daqueles que sobreviveram foi aproximadamente 29.95, equanto a dos que não sobreviveram foi aproximadamente 30.15."
      ]
    },
    {
      "cell_type": "code",
      "metadata": {
        "colab": {
          "base_uri": "https://localhost:8080/",
          "height": 363
        },
        "id": "n164WW9JPB6d",
        "outputId": "0ddcf0cc-7b44-4c58-e0b7-714f3439f839"
      },
      "source": [
        "sns.histplot(treino['age'])\r\n",
        "plt.show()\r\n",
        "print('Idade média dos que sobreviveram: ', (treino.loc[treino['survived']==1, 'age']).mean())\r\n",
        "print('Idade média dos que não sobreviveram: ', (treino.loc[treino['survived']==0, 'age']).mean(), '\\n')\r\n",
        "\r\n",
        "print('Tarifa média dos que sobreviveram: ', (treino.loc[treino['survived']==1, 'fare']).mean())\r\n",
        "print('Tarifa média dos que não sobreviveram: ', (treino.loc[treino['survived']==0, 'fare']).mean())"
      ],
      "execution_count": 537,
      "outputs": [
        {
          "output_type": "display_data",
          "data": {
            "image/png": "[encoded data removed]",
            "text/plain": [
              "<Figure size 432x288 with 1 Axes>"
            ]
          },
          "metadata": {
            "tags": [],
            "needs_background": "light"
          }
        },
        {
          "output_type": "stream",
          "text": [
            "Idade média dos que sobreviveram:  28.675807908163264\n",
            "Idade média dos que não sobreviveram:  29.74766990131579 \n",
            "\n",
            "Tarifa média dos que sobreviveram:  50.52083392857144\n",
            "Tarifa média dos que não sobreviveram:  22.968434210526272\n"
          ],
          "name": "stdout"
        }
      ]
    },
    {
      "cell_type": "markdown",
      "metadata": {
        "id": "y1z1ZgAPDQMx"
      },
      "source": [
        "Np gráfico a seguir vemos que muito mais homens (1) do que mulheres (0) morreram."
      ]
    },
    {
      "cell_type": "code",
      "metadata": {
        "colab": {
          "base_uri": "https://localhost:8080/",
          "height": 333
        },
        "id": "w3-TWm9H84PR",
        "outputId": "d53c5f3c-f688-4771-8851-bbd026dca4c5"
      },
      "source": [
        "sns.countplot(treino['sex'], hue=treino['survived'])\r\n",
        "plt.show()"
      ],
      "execution_count": 538,
      "outputs": [
        {
          "output_type": "stream",
          "text": [
            "/usr/local/lib/python3.6/dist-packages/seaborn/_decorators.py:43: FutureWarning: Pass the following variable as a keyword arg: x. From version 0.12, the only valid positional argument will be `data`, and passing other arguments without an explicit keyword will result in an error or misinterpretation.\n",
            "  FutureWarning\n"
          ],
          "name": "stderr"
        },
        {
          "output_type": "display_data",
          "data": {
            "image/png": "[encoded data removed]",
            "text/plain": [
              "<Figure size 432x288 with 1 Axes>"
            ]
          },
          "metadata": {
            "tags": [],
            "needs_background": "light"
          }
        }
      ]
    },
    {
      "cell_type": "markdown",
      "metadata": {
        "id": "T8ro-alPDrpN"
      },
      "source": [
        "O gráfico abaixo nos mostra que a minoria das pessoas que estavam na classe 1 sobreviveu, enquanto a maioria das que estavam nas outras duas classes morreu."
      ]
    },
    {
      "cell_type": "code",
      "metadata": {
        "colab": {
          "base_uri": "https://localhost:8080/",
          "height": 417
        },
        "id": "6lFTdkJt-G3G",
        "outputId": "0733bc34-9ee7-4dbd-ce68-9c7af713843b"
      },
      "source": [
        "sns.countplot(treino['pclass'], hue=treino['survived'])\r\n",
        "print(treino[ ['pclass', 'survived'] ].groupby(['pclass']).mean())"
      ],
      "execution_count": 539,
      "outputs": [
        {
          "output_type": "stream",
          "text": [
            "        survived\n",
            "pclass          \n",
            "1       0.630952\n",
            "2       0.438095\n",
            "3       0.262082\n"
          ],
          "name": "stdout"
        },
        {
          "output_type": "stream",
          "text": [
            "/usr/local/lib/python3.6/dist-packages/seaborn/_decorators.py:43: FutureWarning: Pass the following variable as a keyword arg: x. From version 0.12, the only valid positional argument will be `data`, and passing other arguments without an explicit keyword will result in an error or misinterpretation.\n",
            "  FutureWarning\n"
          ],
          "name": "stderr"
        },
        {
          "output_type": "display_data",
          "data": {
            "image/png": "[encoded data removed]",
            "text/plain": [
              "<Figure size 432x288 with 1 Axes>"
            ]
          },
          "metadata": {
            "tags": [],
            "needs_background": "light"
          }
        }
      ]
    },
    {
      "cell_type": "code",
      "metadata": {
        "colab": {
          "base_uri": "https://localhost:8080/",
          "height": 484
        },
        "id": "c3SrcZtOTIli",
        "outputId": "66a3e042-b4d8-413a-8af4-a4a92a83c35b"
      },
      "source": [
        "sns.countplot(treino['sibsp'], hue=treino['survived'])\r\n",
        "print((treino[ ['sibsp', 'survived'] ].groupby('sibsp')).mean())"
      ],
      "execution_count": 540,
      "outputs": [
        {
          "output_type": "stream",
          "text": [
            "/usr/local/lib/python3.6/dist-packages/seaborn/_decorators.py:43: FutureWarning: Pass the following variable as a keyword arg: x. From version 0.12, the only valid positional argument will be `data`, and passing other arguments without an explicit keyword will result in an error or misinterpretation.\n",
            "  FutureWarning\n"
          ],
          "name": "stderr"
        },
        {
          "output_type": "stream",
          "text": [
            "       survived\n",
            "sibsp          \n",
            "0      0.358491\n",
            "1      0.521186\n",
            "2      0.468750\n",
            "3      0.312500\n",
            "4      0.117647\n",
            "5      0.000000\n",
            "8      0.000000\n"
          ],
          "name": "stdout"
        },
        {
          "output_type": "display_data",
          "data": {
            "image/png": "[encoded data removed]",
            "text/plain": [
              "<Figure size 432x288 with 1 Axes>"
            ]
          },
          "metadata": {
            "tags": [],
            "needs_background": "light"
          }
        }
      ]
    },
    {
      "cell_type": "code",
      "metadata": {
        "colab": {
          "base_uri": "https://localhost:8080/",
          "height": 501
        },
        "id": "vXYNb27yUPb9",
        "outputId": "0b192e43-c374-4a62-9c15-fcac7b2b16ba"
      },
      "source": [
        "sns.countplot(treino['parch'], hue=treino['survived'])\r\n",
        "print((treino[ ['parch', 'survived'] ].groupby('parch')).mean())"
      ],
      "execution_count": 541,
      "outputs": [
        {
          "output_type": "stream",
          "text": [
            "/usr/local/lib/python3.6/dist-packages/seaborn/_decorators.py:43: FutureWarning: Pass the following variable as a keyword arg: x. From version 0.12, the only valid positional argument will be `data`, and passing other arguments without an explicit keyword will result in an error or misinterpretation.\n",
            "  FutureWarning\n"
          ],
          "name": "stderr"
        },
        {
          "output_type": "stream",
          "text": [
            "       survived\n",
            "parch          \n",
            "0      0.345502\n",
            "1      0.601504\n",
            "2      0.518987\n",
            "3      0.625000\n",
            "4      0.200000\n",
            "5      0.000000\n",
            "6      0.000000\n",
            "9      0.000000\n"
          ],
          "name": "stdout"
        },
        {
          "output_type": "display_data",
          "data": {
            "image/png": "[encoded data removed]",
            "text/plain": [
              "<Figure size 432x288 with 1 Axes>"
            ]
          },
          "metadata": {
            "tags": [],
            "needs_background": "light"
          }
        }
      ]
    },
    {
      "cell_type": "code",
      "metadata": {
        "colab": {
          "base_uri": "https://localhost:8080/",
          "height": 417
        },
        "id": "oYIl3Oqeaw1E",
        "outputId": "d28208a5-e3f1-47cf-b7de-75eec284eb47"
      },
      "source": [
        "sns.countplot(treino['embarked'], hue=treino['survived'])\r\n",
        "print((treino[ ['embarked', 'survived'] ].groupby('embarked')).mean())"
      ],
      "execution_count": 542,
      "outputs": [
        {
          "output_type": "stream",
          "text": [
            "          survived\n",
            "embarked          \n",
            "C         0.579909\n",
            "Q         0.333333\n",
            "S         0.340116\n"
          ],
          "name": "stdout"
        },
        {
          "output_type": "stream",
          "text": [
            "/usr/local/lib/python3.6/dist-packages/seaborn/_decorators.py:43: FutureWarning: Pass the following variable as a keyword arg: x. From version 0.12, the only valid positional argument will be `data`, and passing other arguments without an explicit keyword will result in an error or misinterpretation.\n",
            "  FutureWarning\n"
          ],
          "name": "stderr"
        },
        {
          "output_type": "display_data",
          "data": {
            "image/png": "[encoded data removed]",
            "text/plain": [
              "<Figure size 432x288 with 1 Axes>"
            ]
          },
          "metadata": {
            "tags": [],
            "needs_background": "light"
          }
        }
      ]
    },
    {
      "cell_type": "code",
      "metadata": {
        "colab": {
          "base_uri": "https://localhost:8080/",
          "height": 333
        },
        "id": "RW6_3Jd4Od5S",
        "outputId": "ce7ab73a-f897-4487-b993-bcc9dae5110b"
      },
      "source": [
        "sns.scatterplot(treino['age'], treino['fare'], hue=treino['survived'])\r\n",
        "plt.show()"
      ],
      "execution_count": 543,
      "outputs": [
        {
          "output_type": "stream",
          "text": [
            "/usr/local/lib/python3.6/dist-packages/seaborn/_decorators.py:43: FutureWarning: Pass the following variables as keyword args: x, y. From version 0.12, the only valid positional argument will be `data`, and passing other arguments without an explicit keyword will result in an error or misinterpretation.\n",
            "  FutureWarning\n"
          ],
          "name": "stderr"
        },
        {
          "output_type": "display_data",
          "data": {
            "image/png": "[encoded data removed]",
            "text/plain": [
              "<Figure size 432x288 with 1 Axes>"
            ]
          },
          "metadata": {
            "tags": [],
            "needs_background": "light"
          }
        }
      ]
    },
    {
      "cell_type": "markdown",
      "metadata": {
        "id": "-U0giU3_Rf-p"
      },
      "source": [
        "**Catagorizando as variáveis 'age' e 'fare' de acordo com seus respectivos quartis.**"
      ]
    },
    {
      "cell_type": "code",
      "metadata": {
        "colab": {
          "base_uri": "https://localhost:8080/"
        },
        "id": "q7pzY6YslaZE",
        "outputId": "26a179f8-3c3d-49ae-9ec2-5f12782fad1e"
      },
      "source": [
        "qid = treino['age'].quantile([0.25,0.5,0.75])\r\n",
        "qta = treino['fare'].quantile([0.25,0.5,0.75])\r\n",
        "print(qid)\r\n",
        "print(qta)"
      ],
      "execution_count": 544,
      "outputs": [
        {
          "output_type": "stream",
          "text": [
            "0.25    22.0\n",
            "0.50    28.0\n",
            "0.75    35.0\n",
            "Name: age, dtype: float64\n",
            "0.25     7.8958\n",
            "0.50    14.4542\n",
            "0.75    31.2750\n",
            "Name: fare, dtype: float64\n"
          ],
          "name": "stdout"
        }
      ]
    },
    {
      "cell_type": "code",
      "metadata": {
        "id": "a-IlrElnRZ5t"
      },
      "source": [
        "def CatAge(x):\r\n",
        "  if x>=0 and x<22:\r\n",
        "    return 0\r\n",
        "  elif x>=22 and x<28:\r\n",
        "    return 1\r\n",
        "  elif x>=28 and x<35:\r\n",
        "    return 2\r\n",
        "  else:\r\n",
        "    return 3\r\n",
        "\r\n",
        "def CatFare(x):\r\n",
        "  if x>=0 and x<7.9:\r\n",
        "    return 0\r\n",
        "  elif x>=7.9 and x<14.45:\r\n",
        "    return 1\r\n",
        "  elif x>=14.45 and x<31.28:\r\n",
        "    return 2\r\n",
        "  else:\r\n",
        "    return 3\r\n",
        "\r\n",
        "treino['CatAge'] = treino['age'].apply(CatAge)\r\n",
        "treino['CatFare'] = treino['fare'].apply(CatFare)\r\n",
        "\r\n",
        "teste['CatAge'] = teste['age'].apply(CatAge)\r\n",
        "teste['CatFare'] = teste['fare'].apply(CatFare)"
      ],
      "execution_count": 545,
      "outputs": []
    },
    {
      "cell_type": "markdown",
      "metadata": {
        "id": "p-bgl6eNSVn5"
      },
      "source": [
        "**Dummificando variáveis categóricas e padronizando as contínuas**"
      ]
    },
    {
      "cell_type": "code",
      "metadata": {
        "id": "TULaT5AzP5O7"
      },
      "source": [
        "treino = pd.get_dummies(treino, columns = ['embarked', 'pclass'], drop_first = True)\r\n",
        "teste = pd.get_dummies(teste, columns = ['embarked', 'pclass'], drop_first = True)"
      ],
      "execution_count": 546,
      "outputs": []
    },
    {
      "cell_type": "code",
      "metadata": {
        "id": "rYu0e2fHRnIT"
      },
      "source": [
        "sc = StandardScaler()\r\n",
        "l = ['age', 'fare']\r\n",
        "treino[l] = sc.fit_transform(treino[l])\r\n",
        "teste[l] = sc.transform(teste[l])"
      ],
      "execution_count": 547,
      "outputs": []
    },
    {
      "cell_type": "markdown",
      "metadata": {
        "id": "lMbuA43iTj6I"
      },
      "source": [
        "**Criando a variável 'isalone' que identifica se o tripulante estava (1) ou não (0) sozinho**"
      ]
    },
    {
      "cell_type": "code",
      "metadata": {
        "id": "jtSLbyHGbuuJ"
      },
      "source": [
        "treino['isalone'] = 1\r\n",
        "treino.loc[(treino['sibsp'] != 0) | (treino['parch'] != 0), 'isalone']=0\r\n",
        "\r\n",
        "teste['isalone'] = 1\r\n",
        "teste.loc[(teste['sibsp'] != 0) | (teste['parch'] != 0), 'isalone']=0"
      ],
      "execution_count": 548,
      "outputs": []
    },
    {
      "cell_type": "markdown",
      "metadata": {
        "id": "v79J5glxUHsU"
      },
      "source": [
        "Criando a variável 'familysize', que mostra o tamanho da família de cada tripulante, ou seja, quantas pessoas estavam a bordo com ele. Essa variável irá substituir 'sibsp' e 'parch', ou seja, iremos descartá-las. A partir do gráfico e medidas abaixo, vemos que muitas pessoas que estavam sozinhas não sobreviveram, mais especificamente, aproximadamente 70.5% das pessoas que estavam sozinha morreram."
      ]
    },
    {
      "cell_type": "code",
      "metadata": {
        "colab": {
          "base_uri": "https://localhost:8080/"
        },
        "id": "a0_m_ScZilyZ",
        "outputId": "2ff24766-28bf-4609-a1ff-5d7f06235e6e"
      },
      "source": [
        "print((treino[ ['isalone', 'survived'] ].groupby('isalone')).mean())"
      ],
      "execution_count": 549,
      "outputs": [
        {
          "output_type": "stream",
          "text": [
            "         survived\n",
            "isalone          \n",
            "0        0.512755\n",
            "1        0.314145\n"
          ],
          "name": "stdout"
        }
      ]
    },
    {
      "cell_type": "code",
      "metadata": {
        "id": "ZnOsZEC6pAUp",
        "colab": {
          "base_uri": "https://localhost:8080/",
          "height": 702
        },
        "outputId": "7fee8375-15c7-4f33-d19d-7940762ac9d6"
      },
      "source": [
        "treino['familysize'] = treino['sibsp']+treino['parch']\r\n",
        "teste['familysize'] = teste['sibsp']+teste['parch']\r\n",
        "print((treino[ ['familysize', 'survived'] ].groupby('familysize')).mean(), '\\n')\r\n",
        "\r\n",
        "treino = treino.drop(['sibsp', 'parch'], axis=1)\r\n",
        "teste = teste.drop(['sibsp', 'parch'], axis=1)\r\n",
        "\r\n",
        "sns.countplot(treino['familysize'], hue=treino['survived'])\r\n",
        "print(treino['familysize'].value_counts())\r\n"
      ],
      "execution_count": 550,
      "outputs": [
        {
          "output_type": "stream",
          "text": [
            "            survived\n",
            "familysize          \n",
            "0           0.314145\n",
            "1           0.551136\n",
            "2           0.580645\n",
            "3           0.689655\n",
            "4           0.300000\n",
            "5           0.222222\n",
            "6           0.166667\n",
            "7           0.000000\n",
            "10          0.000000 \n",
            "\n",
            "0     608\n",
            "1     176\n",
            "2     124\n",
            "3      29\n",
            "4      20\n",
            "5      18\n",
            "6      12\n",
            "10      8\n",
            "7       5\n",
            "Name: familysize, dtype: int64\n"
          ],
          "name": "stdout"
        },
        {
          "output_type": "stream",
          "text": [
            "/usr/local/lib/python3.6/dist-packages/seaborn/_decorators.py:43: FutureWarning: Pass the following variable as a keyword arg: x. From version 0.12, the only valid positional argument will be `data`, and passing other arguments without an explicit keyword will result in an error or misinterpretation.\n",
            "  FutureWarning\n"
          ],
          "name": "stderr"
        },
        {
          "output_type": "display_data",
          "data": {
            "image/png": "[encoded data removed]",
            "text/plain": [
              "<Figure size 432x288 with 1 Axes>"
            ]
          },
          "metadata": {
            "tags": [],
            "needs_background": "light"
          }
        }
      ]
    },
    {
      "cell_type": "code",
      "metadata": {
        "id": "e7cA_eFlom7v"
      },
      "source": [
        "fm = []\r\n",
        "for i in treino['familysize']:\r\n",
        "  if i==0:\r\n",
        "    fm.append('zero')\r\n",
        "  elif i==1:\r\n",
        "    fm.append('um')\r\n",
        "  elif i==2:\r\n",
        "    fm.append('dois')\r\n",
        "  else:\r\n",
        "    fm.append('três+')\r\n",
        "treino['familysize'] = fm\r\n",
        "\r\n",
        "fm=[]\r\n",
        "for i in teste['familysize']:\r\n",
        "  if i==0:\r\n",
        "    fm.append('zero')\r\n",
        "  elif i==1:\r\n",
        "    fm.append('um')\r\n",
        "  elif i==2:\r\n",
        "    fm.append('dois')\r\n",
        "  else:\r\n",
        "    fm.append('três+')\r\n",
        "teste['familysize'] = fm"
      ],
      "execution_count": 551,
      "outputs": []
    },
    {
      "cell_type": "markdown",
      "metadata": {
        "id": "jojeGwXDUxBE"
      },
      "source": [
        "Testando rapidamente os modelos. Vamos testar 4 possíveis formatos:\r\n",
        "\r\n",
        "\r\n",
        "1.   Com ambas variáveis 'isalone' + 'familysize' e 'age' e 'fare contínuas\r\n",
        "2.   Com ambas variáveis 'isalone' + 'familysize' e 'age' e 'fare categorizadas\r\n",
        "3.   Apenas com 'isalone' e 'age' e 'fare contínuas\r\n",
        "4.   Apenas com 'isalone' e 'age' e 'fare categorizadas\r\n",
        "\r\n",
        "É possível perceber que o modelo Decision Tree melhorou nos casos em que as variáveis 'age' e 'fare' foram categorizadas. \r\n",
        "A menor acurácia para o modelo Random Forest foi 0.7823 (caso 2).\r\n",
        "O modelo de regressão logística foi melhor no caso 1 e caiu nos outros 3 casos.\r\n",
        "O KNN aparentemente se mostrou o pior modelo, apesar de ainda não termos encontrado o melhor valor para K. O Bagging Classifier se manteve entre 0.7761 e 0.7796.\r\n",
        "\r\n",
        "\r\n",
        "\r\n",
        "\r\n",
        "\r\n",
        "\r\n",
        "\r\n"
      ]
    },
    {
      "cell_type": "code",
      "metadata": {
        "id": "5EPYFqEQFFLr"
      },
      "source": [
        "metrica='accuracy'\r\n",
        "modelos = [LogisticRegression(), KNeighborsClassifier(), BaggingClassifier(), DecisionTreeClassifier(), RandomForestClassifier()]\r\n",
        "l = ['LR', 'KNN', 'BAG', 'DT', 'RF']"
      ],
      "execution_count": 552,
      "outputs": []
    },
    {
      "cell_type": "code",
      "metadata": {
        "colab": {
          "base_uri": "https://localhost:8080/"
        },
        "id": "aMc_lT68pwSo",
        "outputId": "82754454-a2c5-4608-d171-f9c569d0be5c"
      },
      "source": [
        "#1\r\n",
        "xtreino = treino.drop(['name', 'survived', 'CatAge', 'CatFare'], axis=1)\r\n",
        "ytreino = treino['survived']\r\n",
        "xtreino = pd.get_dummies(xtreino, columns=['familysize'], drop_first=True)\r\n",
        "kf = RepeatedKFold(n_splits=10, n_repeats=10)\r\n",
        "accs = {}\r\n",
        "for i in range(5):\r\n",
        "  ac = cross_val_score(modelos[i], xtreino, ytreino, cv=kf, scoring=metrica)\r\n",
        "  accs[l[i]]=ac.mean()\r\n",
        "print(accs)"
      ],
      "execution_count": 553,
      "outputs": [
        {
          "output_type": "stream",
          "text": [
            "{'LR': 0.7863000000000001, 'KNN': 0.7665999999999998, 'BAG': 0.7757999999999998, 'DT': 0.7538999999999999, 'RF': 0.7871000000000001}\n"
          ],
          "name": "stdout"
        }
      ]
    },
    {
      "cell_type": "code",
      "metadata": {
        "colab": {
          "base_uri": "https://localhost:8080/"
        },
        "id": "GMBeXMi8bk3o",
        "outputId": "fe788875-0ed0-4d95-90e5-3d875264dd06"
      },
      "source": [
        "#2\r\n",
        "xtreino = treino.drop(['name', 'survived', 'age', 'fare'], axis=1)\r\n",
        "xtreino = pd.get_dummies(xtreino, columns=['CatAge', 'CatFare', 'familysize'], drop_first=True)#dummificando 'CatAge' e 'CatFare'\r\n",
        "ytreino = treino['survived']\r\n",
        "kf = RepeatedKFold(n_splits=10, n_repeats=10)\r\n",
        "accs = {}\r\n",
        "for i in range(5):\r\n",
        "  ac = cross_val_score(modelos[i], xtreino, ytreino, cv=kf, scoring=metrica)\r\n",
        "  accs[l[i]]=ac.mean()\r\n",
        "print(accs)"
      ],
      "execution_count": 554,
      "outputs": [
        {
          "output_type": "stream",
          "text": [
            "{'LR': 0.7854000000000001, 'KNN': 0.7671000000000001, 'BAG': 0.7761, 'DT': 0.7879, 'RF': 0.7824}\n"
          ],
          "name": "stdout"
        }
      ]
    },
    {
      "cell_type": "code",
      "metadata": {
        "colab": {
          "base_uri": "https://localhost:8080/"
        },
        "id": "0GSLm4E3Z3LI",
        "outputId": "cff707a0-b405-4b13-93e3-161f7d4a0e16"
      },
      "source": [
        "#3\r\n",
        "xtreino = treino.drop(['name', 'familysize', 'survived', 'CatAge', 'CatFare'], axis=1)\r\n",
        "ytreino = treino['survived']\r\n",
        "kf = RepeatedKFold(n_splits=10, n_repeats=10)\r\n",
        "accs = {}\r\n",
        "for i in range(5):\r\n",
        "  ac = cross_val_score(modelos[i], xtreino, ytreino, cv=kf, scoring=metrica)\r\n",
        "  accs[l[i]]=ac.mean()\r\n",
        "print(accs)"
      ],
      "execution_count": 555,
      "outputs": [
        {
          "output_type": "stream",
          "text": [
            "{'LR': 0.7801, 'KNN': 0.7745000000000001, 'BAG': 0.7779, 'DT': 0.7576999999999999, 'RF': 0.7884}\n"
          ],
          "name": "stdout"
        }
      ]
    },
    {
      "cell_type": "code",
      "metadata": {
        "colab": {
          "base_uri": "https://localhost:8080/"
        },
        "id": "oXHkzXh8Z3fH",
        "outputId": "c5217d57-7115-42bf-c9e2-94990a6a0a64"
      },
      "source": [
        "#4\r\n",
        "xtreino = treino.drop(['name', 'familysize', 'survived', 'age', 'fare'], axis=1)\r\n",
        "xtreino = pd.get_dummies(xtreino, columns=['CatAge', 'CatFare'], drop_first=True)#dummificando 'CatAge' e 'CatFare'\r\n",
        "ytreino = treino['survived']\r\n",
        "kf = RepeatedKFold(n_splits=10, n_repeats=10)\r\n",
        "accs = {}\r\n",
        "for i in range(5):\r\n",
        "  ac = cross_val_score(modelos[i], xtreino, ytreino, cv=kf, scoring=metrica)\r\n",
        "  accs[l[i]]=ac.mean()\r\n",
        "print(accs)"
      ],
      "execution_count": 556,
      "outputs": [
        {
          "output_type": "stream",
          "text": [
            "{'LR': 0.775, 'KNN': 0.7630000000000001, 'BAG': 0.7787999999999999, 'DT': 0.7875999999999999, 'RF': 0.7837000000000001}\n"
          ],
          "name": "stdout"
        }
      ]
    },
    {
      "cell_type": "markdown",
      "metadata": {
        "id": "se2RrYZed54h"
      },
      "source": [
        "Vemos que os tripulantes possuíam títulos em seus nomes, podemos fazer uso desses títulos. Vamos extraí-los e criar uma variável 'title' com os títulos dos tripulantes"
      ]
    },
    {
      "cell_type": "code",
      "metadata": {
        "colab": {
          "base_uri": "https://localhost:8080/",
          "height": 35
        },
        "id": "AoVw-rEoucd4",
        "outputId": "88169b5b-fc4f-4730-cb70-1b965572e079"
      },
      "source": [
        "#EXEMPLO\r\n",
        "(treino['name'][0].split(', ')[1]).split('.')[0]"
      ],
      "execution_count": 557,
      "outputs": [
        {
          "output_type": "execute_result",
          "data": {
            "application/vnd.google.colaboratory.intrinsic+json": {
              "type": "string"
            },
            "text/plain": [
              "'Miss'"
            ]
          },
          "metadata": {
            "tags": []
          },
          "execution_count": 557
        }
      ]
    },
    {
      "cell_type": "code",
      "metadata": {
        "id": "JeW68CP4vNKY"
      },
      "source": [
        "titles = []\r\n",
        "for i in treino['name']:\r\n",
        "  titles.append((i.split(', ')[1]).split('.')[0])\r\n",
        "treino['title'] = titles\r\n",
        "\r\n",
        "titles=[]\r\n",
        "for i in teste['name']:\r\n",
        "  titles.append((i.split(', ')[1]).split('.')[0])\r\n",
        "teste['title'] = titles\r\n"
      ],
      "execution_count": 558,
      "outputs": []
    },
    {
      "cell_type": "code",
      "metadata": {
        "colab": {
          "base_uri": "https://localhost:8080/"
        },
        "id": "PGEAykIsvqUM",
        "outputId": "19a6bd06-f6be-47ae-d24b-a10c83402df9"
      },
      "source": [
        "#tabela de frequencia dos titulos\r\n",
        "print(treino['title'].value_counts())"
      ],
      "execution_count": 559,
      "outputs": [
        {
          "output_type": "stream",
          "text": [
            "Mr              580\n",
            "Miss            197\n",
            "Mrs             151\n",
            "Master           48\n",
            "Dr                6\n",
            "Rev               5\n",
            "Col               4\n",
            "Mlle              2\n",
            "the Countess      1\n",
            "Sir               1\n",
            "Mme               1\n",
            "Major             1\n",
            "Don               1\n",
            "Ms                1\n",
            "Lady              1\n",
            "Name: title, dtype: int64\n"
          ],
          "name": "stdout"
        }
      ]
    },
    {
      "cell_type": "markdown",
      "metadata": {
        "id": "x5B-5QcLeg8G"
      },
      "source": [
        "Vamos agrupar os titulos que não são 'Mr', 'Miss', 'Mrs', 'Master' em uma classe chamada 'Outros', pois aparecem muito pouco"
      ]
    },
    {
      "cell_type": "code",
      "metadata": {
        "id": "rxMmKyeyyHng"
      },
      "source": [
        "\r\n",
        "titles = []\r\n",
        "for i in treino['title']:\r\n",
        "  if i in ['Mr', 'Miss', 'Mrs', 'Master']:\r\n",
        "    titles.append(i)\r\n",
        "  else:\r\n",
        "    titles.append('Outros')\r\n",
        "treino['title'] = titles\r\n",
        "\r\n",
        "titles = []\r\n",
        "for i in teste['title']:\r\n",
        "  if i in ['Mr', 'Miss', 'Mrs', 'Master']:\r\n",
        "    titles.append(i)\r\n",
        "  else:\r\n",
        "    titles.append('Outros')\r\n",
        "teste['title'] = titles\r\n"
      ],
      "execution_count": 560,
      "outputs": []
    },
    {
      "cell_type": "markdown",
      "metadata": {
        "id": "Zp_ocBsKJh9A"
      },
      "source": [
        "No gráfico e medidas abaixo vemos que muito dos que possuíam título de 'Mr' morreram (aproximadamente 82.4%), enquanto  para os que possuíam outros títulos (com exceção da classe 'Outros'), a maioria sobreviveu ou o número de mortos e sobreviventes foi igual."
      ]
    },
    {
      "cell_type": "code",
      "metadata": {
        "colab": {
          "base_uri": "https://localhost:8080/",
          "height": 454
        },
        "id": "C411R-3-u7g-",
        "outputId": "10c3bb21-a6a9-470f-c2f1-1eded7e74b74"
      },
      "source": [
        "sns.countplot(treino['title'], hue=treino['survived'])\r\n",
        "print((treino[['title', 'survived']].groupby('title').mean()))"
      ],
      "execution_count": 561,
      "outputs": [
        {
          "output_type": "stream",
          "text": [
            "        survived\n",
            "title           \n",
            "Master  0.500000\n",
            "Miss    0.695431\n",
            "Mr      0.175862\n",
            "Mrs     0.781457\n",
            "Outros  0.458333\n"
          ],
          "name": "stdout"
        },
        {
          "output_type": "stream",
          "text": [
            "/usr/local/lib/python3.6/dist-packages/seaborn/_decorators.py:43: FutureWarning: Pass the following variable as a keyword arg: x. From version 0.12, the only valid positional argument will be `data`, and passing other arguments without an explicit keyword will result in an error or misinterpretation.\n",
            "  FutureWarning\n"
          ],
          "name": "stderr"
        },
        {
          "output_type": "display_data",
          "data": {
            "image/png": "[encoded data removed]",
            "text/plain": [
              "<Figure size 432x288 with 1 Axes>"
            ]
          },
          "metadata": {
            "tags": [],
            "needs_background": "light"
          }
        }
      ]
    },
    {
      "cell_type": "markdown",
      "metadata": {
        "id": "Uy4jhXYIeow0"
      },
      "source": [
        "Agora vamos dummificar 'title' e descartar 'name', pois não será mais útil."
      ]
    },
    {
      "cell_type": "code",
      "metadata": {
        "id": "_g3JmNVszQ0C"
      },
      "source": [
        "treino = pd.get_dummies(treino, columns=['title'], drop_first=True)\r\n",
        "teste = pd.get_dummies(teste, columns=['title'], drop_first=True)\r\n",
        "treino = treino.drop('name', axis=1)\r\n",
        "teste = teste.drop('name', axis=1)"
      ],
      "execution_count": 562,
      "outputs": []
    },
    {
      "cell_type": "markdown",
      "metadata": {
        "id": "s7FrVmeie-pG"
      },
      "source": [
        "Repetindo os testes para os mesmos 4 casos anteriores, agora com a feature 'title'."
      ]
    },
    {
      "cell_type": "code",
      "metadata": {
        "colab": {
          "base_uri": "https://localhost:8080/"
        },
        "id": "xFwFEy-zKmXm",
        "outputId": "3c041eb8-8fb3-4108-807b-ea5b9f1535f4"
      },
      "source": [
        "#1\r\n",
        "xtreino = treino.drop(['survived', 'CatAge', 'CatFare'], axis=1)\r\n",
        "ytreino = treino['survived']\r\n",
        "xtreino = pd.get_dummies(xtreino, columns=['familysize'], drop_first=True)\r\n",
        "kf = RepeatedKFold(n_splits=10, n_repeats=10)\r\n",
        "accs = {}\r\n",
        "for i in range(5):\r\n",
        "  ac = cross_val_score(modelos[i], xtreino, ytreino, cv=kf, scoring=metrica)\r\n",
        "  accs[l[i]]=ac.mean()\r\n",
        "print(accs)"
      ],
      "execution_count": 563,
      "outputs": [
        {
          "output_type": "stream",
          "text": [
            "{'LR': 0.8010000000000003, 'KNN': 0.7849, 'BAG': 0.787, 'DT': 0.7497999999999999, 'RF': 0.7887}\n"
          ],
          "name": "stdout"
        }
      ]
    },
    {
      "cell_type": "code",
      "metadata": {
        "colab": {
          "base_uri": "https://localhost:8080/"
        },
        "id": "PsBjbpEwKmX5",
        "outputId": "cd85c8b3-cc7e-46ae-95b7-07b4b24fbf21"
      },
      "source": [
        "#2\r\n",
        "xtreino = treino.drop(['survived', 'age', 'fare'], axis=1)\r\n",
        "xtreino = pd.get_dummies(xtreino, columns=['CatAge', 'CatFare', 'familysize'], drop_first=True)#dummificando 'CatAge' e 'CatFare'\r\n",
        "ytreino = treino['survived']\r\n",
        "kf = RepeatedKFold(n_splits=10, n_repeats=10)\r\n",
        "accs = {}\r\n",
        "for i in range(5):\r\n",
        "  ac = cross_val_score(modelos[i], xtreino, ytreino, cv=kf, scoring=metrica)\r\n",
        "  accs[l[i]]=ac.mean()\r\n",
        "print(accs)"
      ],
      "execution_count": 564,
      "outputs": [
        {
          "output_type": "stream",
          "text": [
            "{'LR': 0.8030000000000002, 'KNN': 0.7785, 'BAG': 0.7800999999999999, 'DT': 0.7826000000000001, 'RF': 0.7854000000000001}\n"
          ],
          "name": "stdout"
        }
      ]
    },
    {
      "cell_type": "code",
      "metadata": {
        "colab": {
          "base_uri": "https://localhost:8080/"
        },
        "id": "yFfShcA7KmYC",
        "outputId": "759237c1-6d3f-4de4-b333-8bff5e16e77b"
      },
      "source": [
        "#3\r\n",
        "xtreino = treino.drop(['familysize', 'survived', 'CatAge', 'CatFare'], axis=1)\r\n",
        "ytreino = treino['survived']\r\n",
        "kf = RepeatedKFold(n_splits=10, n_repeats=10)\r\n",
        "accs = {}\r\n",
        "for i in range(5):\r\n",
        "  ac = cross_val_score(modelos[i], xtreino, ytreino, cv=kf, scoring=metrica)\r\n",
        "  accs[l[i]]=ac.mean()\r\n",
        "print(accs)"
      ],
      "execution_count": 565,
      "outputs": [
        {
          "output_type": "stream",
          "text": [
            "{'LR': 0.7903000000000001, 'KNN': 0.7807, 'BAG': 0.7876000000000001, 'DT': 0.7592000000000002, 'RF': 0.7985999999999999}\n"
          ],
          "name": "stdout"
        }
      ]
    },
    {
      "cell_type": "code",
      "metadata": {
        "colab": {
          "base_uri": "https://localhost:8080/"
        },
        "id": "A6pG1LujKmYE",
        "outputId": "30d43057-c20d-4568-b38e-f08d4c9acb19"
      },
      "source": [
        "#4\r\n",
        "xtreino = treino.drop(['familysize', 'survived', 'age', 'fare'], axis=1)\r\n",
        "xtreino = pd.get_dummies(xtreino, columns=['CatAge', 'CatFare'], drop_first=True)#dummificando 'CatAge' e 'CatFare'\r\n",
        "ytreino = treino['survived']\r\n",
        "kf = RepeatedKFold(n_splits=10, n_repeats=10)\r\n",
        "accs = {}\r\n",
        "for i in range(5):\r\n",
        "  ac = cross_val_score(modelos[i], xtreino, ytreino, cv=kf, scoring=metrica)\r\n",
        "  accs[l[i]]=ac.mean()\r\n",
        "print(accs)"
      ],
      "execution_count": 566,
      "outputs": [
        {
          "output_type": "stream",
          "text": [
            "{'LR': 0.7906, 'KNN': 0.7702999999999999, 'BAG': 0.7807, 'DT': 0.7858999999999999, 'RF': 0.7888000000000001}\n"
          ],
          "name": "stdout"
        }
      ]
    },
    {
      "cell_type": "markdown",
      "metadata": {
        "id": "LAYdN_mqS2bi"
      },
      "source": [
        "#Escolhendo o melhor modelo\r\n",
        "\r\n",
        "Aqui vamos testar os modelos para encontrar o melhor. Também iremos encontrar o os melhores parâmetros quando for necessário. Ou seja, melhor K para KNN e melhor 'max_depth' para Decision Tree e Random Forest"
      ]
    },
    {
      "cell_type": "markdown",
      "metadata": {
        "id": "0xHK2h_ZufAK"
      },
      "source": [
        "**1º CENÁRIO:** variáveis 'age' e 'fare' contínuas, com a variável 'familysize'.\r\n",
        "Nesse cenário o melhor modelo foi Random Forest com uma acurácia de 0.812."
      ]
    },
    {
      "cell_type": "code",
      "metadata": {
        "id": "0aUMWaTXuhrH"
      },
      "source": [
        "xtreino = treino.drop(['survived', 'CatAge', 'CatFare'], axis=1)\r\n",
        "ytreino = treino['survived']\r\n",
        "xteste = teste.drop(['CatAge', 'CatFare'], axis=1)\r\n",
        "xtreino = pd.get_dummies(xtreino, columns=['familysize'], drop_first=True)#dummificando 'familysize'\r\n",
        "xteste = pd.get_dummies(xteste, columns=['familysize'], drop_first=True)#dummificando 'familysize'\r\n",
        "kf = RepeatedKFold(n_splits=10, n_repeats=10)"
      ],
      "execution_count": 567,
      "outputs": []
    },
    {
      "cell_type": "markdown",
      "metadata": {
        "id": "fidH22MQuhrI"
      },
      "source": [
        "### Regressão Logística"
      ]
    },
    {
      "cell_type": "code",
      "metadata": {
        "colab": {
          "base_uri": "https://localhost:8080/"
        },
        "id": "LGqN0mOkuhrT",
        "outputId": "0497ac81-a764-4c97-92e6-bc218f9612bd"
      },
      "source": [
        "lr = LogisticRegression()\r\n",
        "acc_lr = cross_val_score(lr, xtreino, ytreino, cv=kf, scoring=metrica)\r\n",
        "print('Acurácia regressão logística: {}'.format(acc_lr.mean()))"
      ],
      "execution_count": 568,
      "outputs": [
        {
          "output_type": "stream",
          "text": [
            "Acurácia regressão logística: 0.8003999999999999\n"
          ],
          "name": "stdout"
        }
      ]
    },
    {
      "cell_type": "markdown",
      "metadata": {
        "id": "A9QldlpAuhrV"
      },
      "source": [
        "### KNN"
      ]
    },
    {
      "cell_type": "code",
      "metadata": {
        "colab": {
          "base_uri": "https://localhost:8080/"
        },
        "id": "GfojcvWFuhrV",
        "outputId": "ed3769c9-04c7-422b-f905-80e4231a0e02"
      },
      "source": [
        "knn = KNeighborsClassifier()\r\n",
        "acc = cross_val_score(knn, xtreino, ytreino, cv=kf, scoring=metrica)\r\n",
        "print('Acurácia no KNN: {:.2f}'.format(acc.mean()))"
      ],
      "execution_count": 569,
      "outputs": [
        {
          "output_type": "stream",
          "text": [
            "Acurácia no KNN: 0.78\n"
          ],
          "name": "stdout"
        }
      ]
    },
    {
      "cell_type": "code",
      "metadata": {
        "colab": {
          "base_uri": "https://localhost:8080/"
        },
        "id": "103lXQI9uhrV",
        "outputId": "c901e950-bc10-4a90-cd44-17825b957d0c"
      },
      "source": [
        "#Encontrando o melhor valor para K\r\n",
        "ks = np.arange(1, 20, 2)\r\n",
        "parametros = {'n_neighbors':ks}\r\n",
        "clf = GridSearchCV(KNeighborsClassifier(), param_grid=parametros, scoring=metrica, cv=kf)\r\n",
        "clf.fit(xtreino, ytreino)\r\n",
        "accs = clf.cv_results_['mean_test_score']\r\n",
        "print('Melhor K foi {} e sua acurácia foi {}'.format(clf.best_params_.get('n_neighbors'), max(accs)))"
      ],
      "execution_count": 570,
      "outputs": [
        {
          "output_type": "stream",
          "text": [
            "Melhor K foi 19 e sua acurácia foi 0.7896999999999998\n"
          ],
          "name": "stdout"
        }
      ]
    },
    {
      "cell_type": "markdown",
      "metadata": {
        "id": "VUtuEtk2OQIq"
      },
      "source": [
        "### Bagging Classifier"
      ]
    },
    {
      "cell_type": "code",
      "metadata": {
        "colab": {
          "base_uri": "https://localhost:8080/"
        },
        "id": "ChBItllnOQIu",
        "outputId": "e1338cba-b6b4-47e7-c413-a4a775558e35"
      },
      "source": [
        "bg = BaggingClassifier()\r\n",
        "acc = cross_val_score(bg, xtreino, ytreino, cv=kf, scoring=metrica)\r\n",
        "print(acc.mean())"
      ],
      "execution_count": 571,
      "outputs": [
        {
          "output_type": "stream",
          "text": [
            "0.7841000000000001\n"
          ],
          "name": "stdout"
        }
      ]
    },
    {
      "cell_type": "markdown",
      "metadata": {
        "id": "6_TjCl8GuhrW"
      },
      "source": [
        "### Decision Tree"
      ]
    },
    {
      "cell_type": "code",
      "metadata": {
        "colab": {
          "base_uri": "https://localhost:8080/"
        },
        "id": "RK3PNwCJuhrW",
        "outputId": "bb5962aa-fda5-4b39-af95-c77f8d1c4c5e"
      },
      "source": [
        "dt = DecisionTreeClassifier()\r\n",
        "acc = cross_val_score(dt, xtreino, ytreino, cv=kf, scoring=metrica)\r\n",
        "print('Acurácia na DT: {:.2f}'.format(acc.mean()))"
      ],
      "execution_count": 572,
      "outputs": [
        {
          "output_type": "stream",
          "text": [
            "Acurácia na DT: 0.75\n"
          ],
          "name": "stdout"
        }
      ]
    },
    {
      "cell_type": "code",
      "metadata": {
        "colab": {
          "base_uri": "https://localhost:8080/"
        },
        "id": "xwM6Zp55uhrW",
        "outputId": "61710fe8-84c6-4113-d4be-d883d1d7a6c4"
      },
      "source": [
        "#Encontrando o melhor max_depth\r\n",
        "dps = np.arange(2, 10, 2)\r\n",
        "parametros = {'max_depth':dps}\r\n",
        "clf = GridSearchCV(DecisionTreeClassifier(), param_grid=parametros, scoring=metrica, cv=kf)\r\n",
        "clf.fit(xtreino, ytreino)\r\n",
        "accs = clf.cv_results_['mean_test_score']\r\n",
        "print('Melhor max_depth foi {} e sua acurácia foi {}'.format(clf.best_params_.get('max_depth'), max(accs)))"
      ],
      "execution_count": 573,
      "outputs": [
        {
          "output_type": "stream",
          "text": [
            "Melhor max_depth foi 4 e sua acurácia foi 0.7970999999999999\n"
          ],
          "name": "stdout"
        }
      ]
    },
    {
      "cell_type": "markdown",
      "metadata": {
        "id": "CxcSSyUfuhrX"
      },
      "source": [
        "### Random Forest"
      ]
    },
    {
      "cell_type": "code",
      "metadata": {
        "colab": {
          "base_uri": "https://localhost:8080/"
        },
        "id": "czXQf-ouuhrX",
        "outputId": "842e4fa1-8f7d-4ff1-f6e8-bf1125d46998"
      },
      "source": [
        "rf = RandomForestClassifier()\r\n",
        "acc = cross_val_score(rf, xtreino, ytreino, cv=kf, scoring=metrica)\r\n",
        "print('Acurácia na RF: {:.2f}'.format(acc.mean()))"
      ],
      "execution_count": 574,
      "outputs": [
        {
          "output_type": "stream",
          "text": [
            "Acurácia na RF: 0.79\n"
          ],
          "name": "stdout"
        }
      ]
    },
    {
      "cell_type": "code",
      "metadata": {
        "colab": {
          "base_uri": "https://localhost:8080/"
        },
        "id": "SIrDzoCWuhrX",
        "outputId": "b76133f4-b96b-48e5-959b-d9e120bb1f45"
      },
      "source": [
        "#Encontrando o melhor max_depth\r\n",
        "dps = np.arange(2, 13, 2)\r\n",
        "parametros = {'max_depth':dps}\r\n",
        "clf = GridSearchCV(RandomForestClassifier(), param_grid=parametros, scoring=metrica, cv=kf)\r\n",
        "clf.fit(xtreino, ytreino)\r\n",
        "accs = clf.cv_results_['mean_test_score']\r\n",
        "melhor_md_rf1 = clf.best_params_.get('max_depth')\r\n",
        "print(accs)\r\n",
        "print('Melhor max_depth foi {} e sua acurácia foi {}'.format(melhor_md_rf1, max(accs)))"
      ],
      "execution_count": 575,
      "outputs": [
        {
          "output_type": "stream",
          "text": [
            "[0.7786 0.8051 0.8065 0.812  0.8078 0.8002]\n",
            "Melhor max_depth foi 8 e sua acurácia foi 0.812\n"
          ],
          "name": "stdout"
        }
      ]
    },
    {
      "cell_type": "markdown",
      "metadata": {
        "id": "BSQAXin5wB57"
      },
      "source": [
        "**2º CENÁRIO:** variáveis 'age' e 'fare' contínuas, sem 'familysize'.\r\n",
        "Nesse cenário o melhor modelo foi Random Forest com uma acurácia de 0.8138"
      ]
    },
    {
      "cell_type": "code",
      "metadata": {
        "id": "WM4o1KzcwY8o"
      },
      "source": [
        "xtreino = treino.drop(['familysize', 'survived', 'CatAge', 'CatFare'], axis=1)\r\n",
        "ytreino = treino['survived']\r\n",
        "xteste = teste.drop(['familysize', 'CatAge', 'CatFare'], axis=1)\r\n",
        "kf = RepeatedKFold(n_splits=10, n_repeats=10)"
      ],
      "execution_count": 576,
      "outputs": []
    },
    {
      "cell_type": "markdown",
      "metadata": {
        "id": "Rgpji99kwY8o"
      },
      "source": [
        "### Regressão Logística"
      ]
    },
    {
      "cell_type": "code",
      "metadata": {
        "colab": {
          "base_uri": "https://localhost:8080/"
        },
        "id": "AW01XfE5wY8o",
        "outputId": "7ddff441-4260-4d58-c09b-e8aece12d859"
      },
      "source": [
        "lr = LogisticRegression()\r\n",
        "acc_lr = cross_val_score(lr, xtreino, ytreino, cv=kf, scoring=metrica)\r\n",
        "print('Acurácia regressão logística: {}'.format(acc_lr.mean()))"
      ],
      "execution_count": 577,
      "outputs": [
        {
          "output_type": "stream",
          "text": [
            "Acurácia regressão logística: 0.7905\n"
          ],
          "name": "stdout"
        }
      ]
    },
    {
      "cell_type": "markdown",
      "metadata": {
        "id": "vV6TlsujwY8o"
      },
      "source": [
        "### KNN"
      ]
    },
    {
      "cell_type": "code",
      "metadata": {
        "colab": {
          "base_uri": "https://localhost:8080/"
        },
        "id": "RY6KHY4qwY8p",
        "outputId": "357edb55-3180-4284-d0b3-14c302581b67"
      },
      "source": [
        "knn = KNeighborsClassifier()\r\n",
        "acc = cross_val_score(knn, xtreino, ytreino, cv=kf, scoring=metrica)\r\n",
        "print('Acurácia no KNN: {:.2f}'.format(acc.mean()))"
      ],
      "execution_count": 578,
      "outputs": [
        {
          "output_type": "stream",
          "text": [
            "Acurácia no KNN: 0.78\n"
          ],
          "name": "stdout"
        }
      ]
    },
    {
      "cell_type": "code",
      "metadata": {
        "colab": {
          "base_uri": "https://localhost:8080/"
        },
        "id": "sMS0rz7nwY8p",
        "outputId": "06ac8d93-a994-4d54-ddd1-8d36f87f69fa"
      },
      "source": [
        "#Encontrando o melhor valor para K\r\n",
        "ks = np.arange(1, 20, 2)\r\n",
        "parametros = {'n_neighbors':ks}\r\n",
        "clf = GridSearchCV(KNeighborsClassifier(), param_grid=parametros, scoring=metrica, cv=kf)\r\n",
        "clf.fit(xtreino, ytreino)\r\n",
        "accs = clf.cv_results_['mean_test_score']\r\n",
        "print('Melhor K foi {} e sua acurácia foi {}'.format(clf.best_params_.get('n_neighbors'), max(accs)))"
      ],
      "execution_count": 579,
      "outputs": [
        {
          "output_type": "stream",
          "text": [
            "Melhor K foi 7 e sua acurácia foi 0.7928000000000001\n"
          ],
          "name": "stdout"
        }
      ]
    },
    {
      "cell_type": "markdown",
      "metadata": {
        "id": "W1qrxcj7N8TE"
      },
      "source": [
        "### Bagging Classifier"
      ]
    },
    {
      "cell_type": "code",
      "metadata": {
        "colab": {
          "base_uri": "https://localhost:8080/"
        },
        "id": "tqGIf16rOAEP",
        "outputId": "b2612416-f825-4203-cd7a-fcf2a6804de2"
      },
      "source": [
        "bg = BaggingClassifier()\r\n",
        "acc = cross_val_score(bg, xtreino, ytreino, cv=kf, scoring=metrica)\r\n",
        "print(acc.mean())"
      ],
      "execution_count": 580,
      "outputs": [
        {
          "output_type": "stream",
          "text": [
            "0.7815000000000001\n"
          ],
          "name": "stdout"
        }
      ]
    },
    {
      "cell_type": "markdown",
      "metadata": {
        "id": "SgsZ-LyMwY8p"
      },
      "source": [
        "### Decision Tree"
      ]
    },
    {
      "cell_type": "code",
      "metadata": {
        "colab": {
          "base_uri": "https://localhost:8080/"
        },
        "id": "DYk20iQSwY8p",
        "outputId": "19acbb4a-9b20-412d-8a12-b01eaed73ea6"
      },
      "source": [
        "dt = DecisionTreeClassifier()\r\n",
        "acc = cross_val_score(dt, xtreino, ytreino, cv=kf, scoring=metrica)\r\n",
        "print('Acurácia na DT: {:.2f}'.format(acc.mean()))"
      ],
      "execution_count": 581,
      "outputs": [
        {
          "output_type": "stream",
          "text": [
            "Acurácia na DT: 0.75\n"
          ],
          "name": "stdout"
        }
      ]
    },
    {
      "cell_type": "code",
      "metadata": {
        "colab": {
          "base_uri": "https://localhost:8080/"
        },
        "id": "sJpOcNnHwY8p",
        "outputId": "2ba46e85-15c3-47ce-88f9-3e4806dada30"
      },
      "source": [
        "#Encontrando o melhor max_depth\r\n",
        "dps = np.arange(2, 10, 2)\r\n",
        "parametros = {'max_depth':dps}\r\n",
        "clf = GridSearchCV(DecisionTreeClassifier(), param_grid=parametros, scoring=metrica, cv=kf)\r\n",
        "clf.fit(xtreino, ytreino)\r\n",
        "accs = clf.cv_results_['mean_test_score']\r\n",
        "print('Melhor max_depth foi {} e sua acurácia foi {}'.format(clf.best_params_.get('max_depth'), max(accs)))"
      ],
      "execution_count": 582,
      "outputs": [
        {
          "output_type": "stream",
          "text": [
            "Melhor max_depth foi 4 e sua acurácia foi 0.7947000000000002\n"
          ],
          "name": "stdout"
        }
      ]
    },
    {
      "cell_type": "markdown",
      "metadata": {
        "id": "ffTNebwawY8q"
      },
      "source": [
        "### Random Forest"
      ]
    },
    {
      "cell_type": "code",
      "metadata": {
        "colab": {
          "base_uri": "https://localhost:8080/"
        },
        "id": "ppKXQ80WwY8q",
        "outputId": "cacc0126-2a23-4fbb-83b6-999589464149"
      },
      "source": [
        "rf = RandomForestClassifier()\r\n",
        "acc = cross_val_score(rf, xtreino, ytreino, cv=kf, scoring=metrica)\r\n",
        "print('Acurácia na RF: {:.2f}'.format(acc.mean()))"
      ],
      "execution_count": 583,
      "outputs": [
        {
          "output_type": "stream",
          "text": [
            "Acurácia na RF: 0.80\n"
          ],
          "name": "stdout"
        }
      ]
    },
    {
      "cell_type": "code",
      "metadata": {
        "colab": {
          "base_uri": "https://localhost:8080/"
        },
        "id": "iIL1mE4vwY8q",
        "outputId": "b7e2e4fd-67a6-423a-8615-f8c203377549"
      },
      "source": [
        "#Encontrando o melhor max_depth\r\n",
        "dps = np.arange(2, 13, 2)\r\n",
        "parametros = {'max_depth':dps}\r\n",
        "clf = GridSearchCV(RandomForestClassifier(), param_grid=parametros, scoring=metrica, cv=kf)\r\n",
        "clf.fit(xtreino, ytreino)\r\n",
        "accs = clf.cv_results_['mean_test_score']\r\n",
        "melhor_md_rf2 = clf.best_params_.get('max_depth')\r\n",
        "print(accs)\r\n",
        "print('Melhor max_depth foi {} e sua acurácia foi {}'.format(melhor_md_rf2, max(accs)))"
      ],
      "execution_count": 584,
      "outputs": [
        {
          "output_type": "stream",
          "text": [
            "[0.779  0.8005 0.8075 0.8109 0.8138 0.8061]\n",
            "Melhor max_depth foi 10 e sua acurácia foi 0.8137999999999999\n"
          ],
          "name": "stdout"
        }
      ]
    },
    {
      "cell_type": "markdown",
      "metadata": {
        "id": "2CZU9Z9kxD5T"
      },
      "source": [
        "**3º CENÁRIO:** variáveis 'age' e 'fare' categóricas, sem 'familysize'.\r\n",
        "Nesse cenário o melhor modelo foi Decision Tree com uma acurácia de 0.802."
      ]
    },
    {
      "cell_type": "code",
      "metadata": {
        "id": "Bq0m9UqcxJbx"
      },
      "source": [
        "xtreino = treino.drop(['familysize', 'survived', 'age', 'fare'], axis=1)\r\n",
        "ytreino = treino['survived']\r\n",
        "xteste = teste.drop(['familysize', 'age', 'fare'], axis=1)\r\n",
        "xtreino = pd.get_dummies(xtreino, columns=['CatAge', 'CatFare'], drop_first=True)#dummificando 'CatAge' e 'CatFare'\r\n",
        "xteste = pd.get_dummies(xteste, columns=['CatAge', 'CatFare'], drop_first=True)#dummificando 'CatAge' e 'CatFare'\r\n",
        "kf = RepeatedKFold(n_splits=10, n_repeats=10)"
      ],
      "execution_count": 585,
      "outputs": []
    },
    {
      "cell_type": "markdown",
      "metadata": {
        "id": "ekbXHPUnxJb_"
      },
      "source": [
        "### Regressão Logística"
      ]
    },
    {
      "cell_type": "code",
      "metadata": {
        "colab": {
          "base_uri": "https://localhost:8080/"
        },
        "id": "6c8ldOPXxJcA",
        "outputId": "a9276e45-d930-4084-8a93-083ed20caec8"
      },
      "source": [
        "lr = LogisticRegression()\r\n",
        "acc_lr = cross_val_score(lr, xtreino, ytreino, cv=kf, scoring=metrica)\r\n",
        "print('Acurácia regressão logística: {}'.format(acc_lr.mean()))"
      ],
      "execution_count": 586,
      "outputs": [
        {
          "output_type": "stream",
          "text": [
            "Acurácia regressão logística: 0.7918999999999999\n"
          ],
          "name": "stdout"
        }
      ]
    },
    {
      "cell_type": "markdown",
      "metadata": {
        "id": "ouyAncMexJcC"
      },
      "source": [
        "### KNN"
      ]
    },
    {
      "cell_type": "code",
      "metadata": {
        "colab": {
          "base_uri": "https://localhost:8080/"
        },
        "id": "O1CJkVMzxJcC",
        "outputId": "7b1a14c0-71e8-49ab-c30d-deaf2eb3e6ee"
      },
      "source": [
        "knn = KNeighborsClassifier()\r\n",
        "acc = cross_val_score(knn, xtreino, ytreino, cv=kf, scoring=metrica)\r\n",
        "print('Acurácia no KNN: {:.2f}'.format(acc.mean()))"
      ],
      "execution_count": 587,
      "outputs": [
        {
          "output_type": "stream",
          "text": [
            "Acurácia no KNN: 0.77\n"
          ],
          "name": "stdout"
        }
      ]
    },
    {
      "cell_type": "code",
      "metadata": {
        "colab": {
          "base_uri": "https://localhost:8080/"
        },
        "id": "7kTrg5XmxJcD",
        "outputId": "da1e195a-5ee2-4375-ae85-369e1b79358f"
      },
      "source": [
        "#Encontrando o melhor valor para K\r\n",
        "ks = np.arange(1, 20, 2)\r\n",
        "parametros = {'n_neighbors':ks}\r\n",
        "clf = GridSearchCV(KNeighborsClassifier(), param_grid=parametros, scoring=metrica, cv=kf)\r\n",
        "clf.fit(xtreino, ytreino)\r\n",
        "accs = clf.cv_results_['mean_test_score']\r\n",
        "print('Melhor K foi {} e sua acurácia foi {}'.format(clf.best_params_.get('n_neighbors'), max(accs)))"
      ],
      "execution_count": 588,
      "outputs": [
        {
          "output_type": "stream",
          "text": [
            "Melhor K foi 17 e sua acurácia foi 0.7807\n"
          ],
          "name": "stdout"
        }
      ]
    },
    {
      "cell_type": "markdown",
      "metadata": {
        "id": "GqrB4mC0ORTM"
      },
      "source": [
        "### Bagging Classifier"
      ]
    },
    {
      "cell_type": "code",
      "metadata": {
        "colab": {
          "base_uri": "https://localhost:8080/"
        },
        "id": "eR89x9b4ORTO",
        "outputId": "d1e5715c-669e-4ead-8859-d2a0c4c125b8"
      },
      "source": [
        "bg = BaggingClassifier()\r\n",
        "acc = cross_val_score(bg, xtreino, ytreino, cv=kf, scoring=metrica)\r\n",
        "print(acc.mean())"
      ],
      "execution_count": 589,
      "outputs": [
        {
          "output_type": "stream",
          "text": [
            "0.784\n"
          ],
          "name": "stdout"
        }
      ]
    },
    {
      "cell_type": "markdown",
      "metadata": {
        "id": "HDiXP1HgxJcE"
      },
      "source": [
        "### Decision Tree"
      ]
    },
    {
      "cell_type": "code",
      "metadata": {
        "colab": {
          "base_uri": "https://localhost:8080/"
        },
        "id": "FUyLCmjIxJcE",
        "outputId": "cdf0bd38-0c9e-4fcd-8723-cc3f70867f65"
      },
      "source": [
        "dt = DecisionTreeClassifier()\r\n",
        "acc = cross_val_score(dt, xtreino, ytreino, cv=kf, scoring=metrica)\r\n",
        "print('Acurácia na DT: {:.2f}'.format(acc.mean()))"
      ],
      "execution_count": 590,
      "outputs": [
        {
          "output_type": "stream",
          "text": [
            "Acurácia na DT: 0.78\n"
          ],
          "name": "stdout"
        }
      ]
    },
    {
      "cell_type": "code",
      "metadata": {
        "colab": {
          "base_uri": "https://localhost:8080/"
        },
        "id": "XuO7K8MFxJcE",
        "outputId": "226f738a-0841-421d-9f00-29cfc9b9c4b7"
      },
      "source": [
        "#Encontrando o melhor max_depth\r\n",
        "dps = np.arange(2, 10, 2)\r\n",
        "parametros = {'max_depth':dps}\r\n",
        "clf = GridSearchCV(DecisionTreeClassifier(), param_grid=parametros, scoring=metrica, cv=kf)\r\n",
        "clf.fit(xtreino, ytreino)\r\n",
        "accs = clf.cv_results_['mean_test_score']\r\n",
        "print('Melhor max_depth foi {} e sua acurácia foi {}'.format(clf.best_params_.get('max_depth'), max(accs)))"
      ],
      "execution_count": 591,
      "outputs": [
        {
          "output_type": "stream",
          "text": [
            "Melhor max_depth foi 6 e sua acurácia foi 0.8019999999999999\n"
          ],
          "name": "stdout"
        }
      ]
    },
    {
      "cell_type": "markdown",
      "metadata": {
        "id": "QguXT9-2xJcF"
      },
      "source": [
        "### Random Forest"
      ]
    },
    {
      "cell_type": "code",
      "metadata": {
        "colab": {
          "base_uri": "https://localhost:8080/"
        },
        "id": "H0mDr1pexJcF",
        "outputId": "cd1cd8f0-80a0-497d-ccbc-123be9e14992"
      },
      "source": [
        "rf = RandomForestClassifier()\r\n",
        "acc = cross_val_score(rf, xtreino, ytreino, cv=kf, scoring=metrica)\r\n",
        "print('Acurácia na RF: {:.2f}'.format(acc.mean()))"
      ],
      "execution_count": 592,
      "outputs": [
        {
          "output_type": "stream",
          "text": [
            "Acurácia na RF: 0.78\n"
          ],
          "name": "stdout"
        }
      ]
    },
    {
      "cell_type": "code",
      "metadata": {
        "colab": {
          "base_uri": "https://localhost:8080/"
        },
        "id": "pNMxjpEbxJcF",
        "outputId": "25222733-ca63-4457-8e35-b6368e08f3e8"
      },
      "source": [
        "#Encontrando o melhor max_depth\r\n",
        "dps = np.arange(2, 13, 2)\r\n",
        "parametros = {'max_depth':dps}\r\n",
        "clf = GridSearchCV(RandomForestClassifier(), param_grid=parametros, scoring=metrica, cv=kf)\r\n",
        "clf.fit(xtreino, ytreino)\r\n",
        "accs = clf.cv_results_['mean_test_score']\r\n",
        "melhor_md_rf3 = clf.best_params_.get('max_depth')\r\n",
        "print(accs)\r\n",
        "print('Melhor max_depth foi {} e sua acurácia foi {}'.format(melhor_md_rf3, max(accs)))"
      ],
      "execution_count": 593,
      "outputs": [
        {
          "output_type": "stream",
          "text": [
            "[0.7771 0.7896 0.7983 0.7932 0.786  0.7824]\n",
            "Melhor max_depth foi 6 e sua acurácia foi 0.7982999999999998\n"
          ],
          "name": "stdout"
        }
      ]
    },
    {
      "cell_type": "markdown",
      "metadata": {
        "id": "-77CKCRvxx_3"
      },
      "source": [
        "**4º CENÁRIO:** variáveis 'age' e 'fare' categóricas, com 'familysize'.\r\n",
        "Nesse cenário o melhor modelo foi Regressão Logística com uma acurácia de 0.8031"
      ]
    },
    {
      "cell_type": "code",
      "metadata": {
        "id": "IryO8E80x-gS"
      },
      "source": [
        "xtreino = treino.drop(['survived', 'age', 'fare'], axis=1)\r\n",
        "ytreino = treino['survived']\r\n",
        "xteste = teste.drop(['age', 'fare'], axis=1)\r\n",
        "xtreino = pd.get_dummies(xtreino, columns=['familysize', 'CatAge', 'CatFare'], drop_first=True)#dummificando 'CatAge', 'CatFare' e 'familysize'\r\n",
        "xteste = pd.get_dummies(xteste, columns=['familysize', 'CatAge', 'CatFare'], drop_first=True)#dummificando 'CatAge' e 'CatFare' e 'familysize'\r\n",
        "kf = RepeatedKFold(n_splits=10, n_repeats=10)"
      ],
      "execution_count": 594,
      "outputs": []
    },
    {
      "cell_type": "markdown",
      "metadata": {
        "id": "Wd5EAk81x-gd"
      },
      "source": [
        "### Regressão Logística"
      ]
    },
    {
      "cell_type": "code",
      "metadata": {
        "colab": {
          "base_uri": "https://localhost:8080/"
        },
        "id": "7618u-dYx-ge",
        "outputId": "9daa0682-58ed-484a-9bda-ca974145915d"
      },
      "source": [
        "lr = LogisticRegression()\r\n",
        "acc_lr = cross_val_score(lr, xtreino, ytreino, cv=kf, scoring=metrica)\r\n",
        "print('Acurácia regressão logística: {}'.format(acc_lr.mean()))"
      ],
      "execution_count": 595,
      "outputs": [
        {
          "output_type": "stream",
          "text": [
            "Acurácia regressão logística: 0.8030999999999999\n"
          ],
          "name": "stdout"
        }
      ]
    },
    {
      "cell_type": "markdown",
      "metadata": {
        "id": "oZvbyCXIx-gf"
      },
      "source": [
        "### KNN"
      ]
    },
    {
      "cell_type": "code",
      "metadata": {
        "colab": {
          "base_uri": "https://localhost:8080/"
        },
        "id": "wB_FT7nsx-gg",
        "outputId": "d35c0da5-139f-4f78-b79c-c12221fc2da7"
      },
      "source": [
        "knn = KNeighborsClassifier()\r\n",
        "acc = cross_val_score(knn, xtreino, ytreino, cv=kf, scoring=metrica)\r\n",
        "print('Acurácia no KNN: {:.2f}'.format(acc.mean()))"
      ],
      "execution_count": 596,
      "outputs": [
        {
          "output_type": "stream",
          "text": [
            "Acurácia no KNN: 0.78\n"
          ],
          "name": "stdout"
        }
      ]
    },
    {
      "cell_type": "code",
      "metadata": {
        "colab": {
          "base_uri": "https://localhost:8080/"
        },
        "id": "LDVmij3xx-gh",
        "outputId": "25424506-5338-448f-e0c0-3c3bcab81f19"
      },
      "source": [
        "#Encontrando o melhor valor para K\r\n",
        "ks = np.arange(1, 20, 2)\r\n",
        "parametros = {'n_neighbors':ks}\r\n",
        "clf = GridSearchCV(KNeighborsClassifier(), param_grid=parametros, scoring=metrica, cv=kf)\r\n",
        "clf.fit(xtreino, ytreino)\r\n",
        "accs = clf.cv_results_['mean_test_score']\r\n",
        "print('Melhor K foi {} e sua acurácia foi {}'.format(clf.best_params_.get('n_neighbors'), max(accs)))"
      ],
      "execution_count": 597,
      "outputs": [
        {
          "output_type": "stream",
          "text": [
            "Melhor K foi 19 e sua acurácia foi 0.7913999999999999\n"
          ],
          "name": "stdout"
        }
      ]
    },
    {
      "cell_type": "markdown",
      "metadata": {
        "id": "L_flcFw3OSaV"
      },
      "source": [
        "### Bagging Classifier"
      ]
    },
    {
      "cell_type": "code",
      "metadata": {
        "colab": {
          "base_uri": "https://localhost:8080/"
        },
        "id": "6pvdX_2uOSaZ",
        "outputId": "5cf2ada4-efd4-419e-a898-eb76a7a9898e"
      },
      "source": [
        "bg = BaggingClassifier()\r\n",
        "acc = cross_val_score(bg, xtreino, ytreino, cv=kf, scoring=metrica)\r\n",
        "print(acc.mean())"
      ],
      "execution_count": 598,
      "outputs": [
        {
          "output_type": "stream",
          "text": [
            "0.7796000000000001\n"
          ],
          "name": "stdout"
        }
      ]
    },
    {
      "cell_type": "markdown",
      "metadata": {
        "id": "FLLKj3Ybx-gi"
      },
      "source": [
        "### Deicision Tree"
      ]
    },
    {
      "cell_type": "code",
      "metadata": {
        "colab": {
          "base_uri": "https://localhost:8080/"
        },
        "id": "cEsAUzppx-gi",
        "outputId": "9b4a2b89-77b5-4cc5-e5dc-00f50837d608"
      },
      "source": [
        "dt = DecisionTreeClassifier()\r\n",
        "acc = cross_val_score(dt, xtreino, ytreino, cv=kf, scoring=metrica)\r\n",
        "print('Acurácia na DT: {:.2f}'.format(acc.mean()))"
      ],
      "execution_count": 599,
      "outputs": [
        {
          "output_type": "stream",
          "text": [
            "Acurácia na DT: 0.78\n"
          ],
          "name": "stdout"
        }
      ]
    },
    {
      "cell_type": "code",
      "metadata": {
        "colab": {
          "base_uri": "https://localhost:8080/"
        },
        "id": "MNa3GHAGx-gj",
        "outputId": "3ed33571-bfa0-4c34-fee3-e00e7aed82e7"
      },
      "source": [
        "#Encontrando o melhor max_depth\r\n",
        "dps = np.arange(2, 10, 2)\r\n",
        "parametros = {'max_depth':dps}\r\n",
        "clf = GridSearchCV(DecisionTreeClassifier(), param_grid=parametros, scoring=metrica, cv=kf)\r\n",
        "clf.fit(xtreino, ytreino)\r\n",
        "accs = clf.cv_results_['mean_test_score']\r\n",
        "print('Melhor max_depth foi {} e sua acurácia foi {}'.format(clf.best_params_.get('max_depth'), max(accs)))"
      ],
      "execution_count": 600,
      "outputs": [
        {
          "output_type": "stream",
          "text": [
            "Melhor max_depth foi 4 e sua acurácia foi 0.7985000000000001\n"
          ],
          "name": "stdout"
        }
      ]
    },
    {
      "cell_type": "markdown",
      "metadata": {
        "id": "RmNsztj_x-gj"
      },
      "source": [
        "### Random Forest"
      ]
    },
    {
      "cell_type": "code",
      "metadata": {
        "colab": {
          "base_uri": "https://localhost:8080/"
        },
        "id": "dvhSAZJrx-gj",
        "outputId": "e8d1cc82-7b39-4316-a3f8-b84df41b8df6"
      },
      "source": [
        "rf = RandomForestClassifier()\r\n",
        "acc = cross_val_score(rf, xtreino, ytreino, cv=kf, scoring=metrica)\r\n",
        "print('Acurácia na RF: {:.2f}'.format(acc.mean()))"
      ],
      "execution_count": 609,
      "outputs": [
        {
          "output_type": "stream",
          "text": [
            "Acurácia na RF: 0.79\n"
          ],
          "name": "stdout"
        }
      ]
    },
    {
      "cell_type": "code",
      "metadata": {
        "colab": {
          "base_uri": "https://localhost:8080/"
        },
        "id": "OBbWISYZx-gk",
        "outputId": "5da9be9c-90c4-4d5c-f41b-3e84f70b337f"
      },
      "source": [
        "#Encontrando o melhor max_depth\r\n",
        "dps = np.arange(2, 13, 2)\r\n",
        "parametros = {'max_depth':dps}\r\n",
        "clf = GridSearchCV(RandomForestClassifier(), param_grid=parametros, scoring=metrica, cv=kf)\r\n",
        "clf.fit(xtreino, ytreino)\r\n",
        "accs = clf.cv_results_['mean_test_score']\r\n",
        "melhor_md_rf4 = clf.best_params_.get('max_depth')\r\n",
        "print(accs)\r\n",
        "print('Melhor max_depth foi {} e sua acurácia foi {}'.format(melhor_md_rf4, max(accs)))"
      ],
      "execution_count": 602,
      "outputs": [
        {
          "output_type": "stream",
          "text": [
            "[0.7773 0.8007 0.7993 0.7971 0.794  0.7919]\n",
            "Melhor max_depth foi 4 e sua acurácia foi 0.8006999999999997\n"
          ],
          "name": "stdout"
        }
      ]
    },
    {
      "cell_type": "markdown",
      "metadata": {
        "id": "6uFUadfm1XsK"
      },
      "source": [
        "## 1ª Submissão\r\n",
        "Aqui foi escolhido 2º cenário com o modelo Random Forest (max_depth=10), pois foi o que obteve o melhor desempenho. Vemos que aqui a variável 'familysize' foi descartada e 'age' e fare' ficaram como variáveis contínuas."
      ]
    },
    {
      "cell_type": "code",
      "metadata": {
        "id": "aCoE1zjE187N"
      },
      "source": [
        "xtreino = treino.drop(['familysize', 'survived', 'CatAge', 'CatFare'], axis=1)\r\n",
        "ytreino = treino['survived']\r\n",
        "xteste = teste.drop(['familysize', 'CatAge', 'CatFare'], axis=1)\r\n",
        "rf = RandomForestClassifier(max_depth=melhor_md_rf2)\r\n",
        "rf.fit(xtreino, ytreino)\r\n",
        "preditos = rf.predict(xteste)"
      ],
      "execution_count": 610,
      "outputs": []
    },
    {
      "cell_type": "code",
      "metadata": {
        "id": "7ay-IRxS3gTI"
      },
      "source": [
        "index=np.arange(0,309,1)\r\n",
        "sub = pd.Series(preditos, index=index, name='Survived')\r\n",
        "sub.to_csv('pedro-submissao1.csv', header=True)"
      ],
      "execution_count": 611,
      "outputs": []
    },
    {
      "cell_type": "markdown",
      "metadata": {
        "id": "vGjRa7MD2ZAK"
      },
      "source": [
        "## 2ª Submissão\r\n",
        "Aqui foi escolhido o 1º cenário com o modelo Random Forest (max_depth=8), pois foi o que obteve o segundo melhor desempenho no geral. Aqui a variável 'familysize' foi mantida e 'age' e fare' ficaram como variáveis contínuas."
      ]
    },
    {
      "cell_type": "code",
      "metadata": {
        "id": "oYjO5wBi2qHm"
      },
      "source": [
        "xtreino = treino.drop(['survived', 'CatAge', 'CatFare'], axis=1)\r\n",
        "ytreino = treino['survived']\r\n",
        "xteste = teste.drop(['CatAge', 'CatFare'], axis=1)\r\n",
        "xtreino = pd.get_dummies(xtreino, columns=['familysize'], drop_first=True)#dummificando 'familysize'\r\n",
        "xteste = pd.get_dummies(xteste, columns=['familysize'], drop_first=True)#dummificando 'familysize'\r\n",
        "rf = RandomForestClassifier(max_depth=melhor_md_rf1)\r\n",
        "rf.fit(xtreino, ytreino)\r\n",
        "preditos = rf.predict(xteste)"
      ],
      "execution_count": 612,
      "outputs": []
    },
    {
      "cell_type": "code",
      "metadata": {
        "id": "DSx95eXpBjZb"
      },
      "source": [
        "sub = pd.Series(preditos, index=index, name='Survived')\r\n",
        "sub.to_csv('pedro-submissao2.csv', header=True)"
      ],
      "execution_count": 613,
      "outputs": []
    },
    {
      "cell_type": "markdown",
      "metadata": {
        "id": "ubjgqGrP2vMw"
      },
      "source": [
        "## 3ª Submissão\r\n",
        "Aqui foi escolhido o 4º cenário com o modelo Regressão Logística, pois foi o que obteve o terceiro melhor desempenho. Aqui a variável 'familysize' foi mantida e categorizamos 'age' e 'fare'."
      ]
    },
    {
      "cell_type": "code",
      "metadata": {
        "id": "sUxlGFw43CYg"
      },
      "source": [
        "xtreino = treino.drop(['survived', 'age', 'fare'], axis=1)\r\n",
        "ytreino = treino['survived']\r\n",
        "xteste = teste.drop(['age', 'fare'], axis=1)\r\n",
        "xtreino = pd.get_dummies(xtreino, columns=['familysize', 'CatAge', 'CatFare'], drop_first=True)#dummificando 'CatAge', 'CatFare' e 'familysize'\r\n",
        "xteste = pd.get_dummies(xteste, columns=['familysize', 'CatAge', 'CatFare'], drop_first=True)#dummificando 'CatAge' e 'CatFare' e 'familysize'\r\n",
        "lr = LogisticRegression()\r\n",
        "lr.fit(xtreino, ytreino)\r\n",
        "preditos = lr.predict(xteste)"
      ],
      "execution_count": 614,
      "outputs": []
    },
    {
      "cell_type": "code",
      "metadata": {
        "id": "jSwdYYeoByyV"
      },
      "source": [
        "sub = pd.Series(preditos, index=index, name='Survived')\r\n",
        "sub.to_csv('pedro-submissao3.csv', header=True)"
      ],
      "execution_count": 615,
      "outputs": []
    }
  ]
}